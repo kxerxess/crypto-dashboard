{
 "cells": [
  {
   "cell_type": "code",
   "execution_count": 1,
   "id": "7ff4d0af",
   "metadata": {},
   "outputs": [],
   "source": [
    "import pandas as pd\n",
    "import requests\n",
    "import finnhub\n",
    "import time\n",
    "import urllib\n",
    "from datetime import datetime\n",
    "from datetime import date\n",
    "from datetime import timedelta\n",
    "pd.set_option('display.max_rows', None)\n",
    "import pymongo"
   ]
  },
  {
   "cell_type": "code",
   "execution_count": 6,
   "id": "e2a11b14",
   "metadata": {},
   "outputs": [],
   "source": [
    "username = \"kxerxess\"\n",
    "password = \"Theakatsuki99\"\n",
    "host = \"cluster0.zvabl.mongodb.net\"\n",
    "dbName = \"crypto_dashboard\""
   ]
  },
  {
   "cell_type": "code",
   "execution_count": 7,
   "id": "712bb2df",
   "metadata": {},
   "outputs": [],
   "source": [
    "connection_string = (\n",
    "            \"mongodb+srv://\"\n",
    "            + username\n",
    "            + \":\"\n",
    "            + urllib.parse.quote(password)\n",
    "            + \"@\"\n",
    "            + host\n",
    "            + \"/\"\n",
    "            + dbName\n",
    "            + \"?retryWrites=true&w=majority\"\n",
    "        )\n",
    "client = pymongo.MongoClient(connection_string)\n",
    "db = client['crypto_dashboard']\n",
    "user = db['user']\n",
    "app = db['app']"
   ]
  },
  {
   "cell_type": "code",
   "execution_count": 14,
   "id": "e0887a3b",
   "metadata": {},
   "outputs": [
    {
     "data": {
      "text/plain": [
       "<pymongo.results.UpdateResult at 0x163d501dd40>"
      ]
     },
     "execution_count": 14,
     "metadata": {},
     "output_type": "execute_result"
    }
   ],
   "source": [
    "symbolsList = [\n",
    "    'BTCUSDT',\n",
    "    'ETHUSDT',\n",
    "    'BNBUSDT',\n",
    "    'ADAUSDT',\n",
    "    'SOLUSDT',\n",
    "    'XRPUSDT',\n",
    "    'LINKUSDT',\n",
    "    'LTCUSDT',\n",
    "    'VETUSDT',\n",
    "    'TRXUSDT'\n",
    "]\n",
    "for name in symbolsList: \n",
    "    symbols.update_one({'name': name},{\n",
    "        '$set': {\n",
    "            'target': True,\n",
    "        }\n",
    "    })"
   ]
  },
  {
   "cell_type": "code",
   "execution_count": 15,
   "id": "f6eb863a",
   "metadata": {},
   "outputs": [
    {
     "data": {
      "text/plain": [
       "<pymongo.results.InsertOneResult at 0x163d54135c0>"
      ]
     },
     "execution_count": 15,
     "metadata": {},
     "output_type": "execute_result"
    }
   ],
   "source": [
    "data = {\n",
    "    'emailId': 'kaustubhsharma999@gmail.com',\n",
    "    'firstName': 'Kaustubh',\n",
    "    'lastName': 'Sharma',\n",
    "    'target_symbols': symbolsList\n",
    "}\n",
    "user.insert_one(data)"
   ]
  },
  {
   "cell_type": "code",
   "execution_count": 17,
   "id": "084631be",
   "metadata": {},
   "outputs": [
    {
     "data": {
      "text/plain": [
       "<pymongo.results.InsertOneResult at 0x163d501d700>"
      ]
     },
     "execution_count": 17,
     "metadata": {},
     "output_type": "execute_result"
    }
   ],
   "source": [
    "app.insert_one({\n",
    "    'sync': int(datetime(2020, 1, 1).timestamp())\n",
    "})"
   ]
  },
  {
   "cell_type": "code",
   "execution_count": null,
   "id": "a6da4fa3",
   "metadata": {},
   "outputs": [],
   "source": []
  }
 ],
 "metadata": {
  "kernelspec": {
   "display_name": "Python 3 (ipykernel)",
   "language": "python",
   "name": "python3"
  },
  "language_info": {
   "codemirror_mode": {
    "name": "ipython",
    "version": 3
   },
   "file_extension": ".py",
   "mimetype": "text/x-python",
   "name": "python",
   "nbconvert_exporter": "python",
   "pygments_lexer": "ipython3",
   "version": "3.9.7"
  }
 },
 "nbformat": 4,
 "nbformat_minor": 5
}
